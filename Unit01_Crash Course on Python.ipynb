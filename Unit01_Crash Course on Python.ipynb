{
 "cells": [
  {
   "cell_type": "markdown",
   "metadata": {},
   "source": [
    "# Python programming \n",
    "## Crash Course on Python Coding Practice\n",
    "\n",
    "No matter the level of mastery you hope to get to in Python,<br> \n",
    "you'll need these fundamentals in place before you jump into any project.<br><br>\n",
    "\n",
    "You need to know how to:\n",
    "\n",
    "- declare variables\n",
    "- collect user input\n",
    "- store information\n",
    "- repeat an action through loops\n",
    "- write functions to repeat blocks of code\n"
   ]
  },
  {
   "cell_type": "markdown",
   "metadata": {},
   "source": [
    "### 01 - 奇偶數辨別（Odd or even）\n",
    "#### 當使用者輸入一個的數字，它能夠辨別奇偶，並輸出檢驗結果給使用者。\n",
    "\n",
    "> 題目：輸入一數字判斷奇數或偶數<br>\n",
    "輸入(Input): 一個數字 <br>\n",
    "輸出(Output):奇數或偶數\n",
    "\n",
    "* 進階: 可以限制輸入一個介於一定範圍（例如 1 到 1000）的數字"
   ]
  },
  {
   "cell_type": "code",
   "execution_count": 3,
   "metadata": {},
   "outputs": [
    {
     "name": "stdout",
     "output_type": "stream",
     "text": [
      "45\n",
      "45 是奇数\n"
     ]
    }
   ],
   "source": [
    "num = int(input())\n",
    "if num>1000 or num<1:\n",
    "    print(\"數值不在範圍內\")\n",
    "else:\n",
    "    if (num % 2) == 1:\n",
    "        print(\"{} 是奇数\".format(num))\n",
    "    else:\n",
    "        print(\"{} 是偶数\".format(num))"
   ]
  },
  {
   "cell_type": "markdown",
   "metadata": {},
   "source": [
    "### 02 - 填字遊戲（Mad libs game）\n",
    "#### 使用者輸入任何字，它可以是名詞、形容詞、動詞、代名詞等。程式得到文字後，可自行排列，組成成一個模板故事。\n",
    "\n",
    "> 題目：輸入一數字判斷奇數或偶數<br>\n",
    "輸入(Input): 一連串依據說明輸入對應文字 <br>\n",
    "輸出(Output): 模板故事\n",
    "\n",
    "* 進階: 可以讓程式重複執行"
   ]
  },
  {
   "cell_type": "code",
   "execution_count": 9,
   "metadata": {},
   "outputs": [
    {
     "name": "stdout",
     "output_type": "stream",
     "text": [
      "請輸入班級321\n",
      "請輸入座號09\n",
      "請輸入性別boy\n",
      "班級座號32109\n",
      "性別boy\n"
     ]
    },
    {
     "ename": "KeyboardInterrupt",
     "evalue": "Interrupted by user",
     "output_type": "error",
     "traceback": [
      "\u001b[0;31m---------------------------------------------------------------------------\u001b[0m",
      "\u001b[0;31mKeyboardInterrupt\u001b[0m                         Traceback (most recent call last)",
      "\u001b[0;32m<ipython-input-9-a36720551c5e>\u001b[0m in \u001b[0;36m<module>\u001b[0;34m\u001b[0m\n\u001b[1;32m      1\u001b[0m \u001b[0;32mfor\u001b[0m \u001b[0mi\u001b[0m \u001b[0;32min\u001b[0m \u001b[0mrange\u001b[0m\u001b[0;34m(\u001b[0m\u001b[0;36m17\u001b[0m\u001b[0;34m)\u001b[0m\u001b[0;34m:\u001b[0m\u001b[0;34m\u001b[0m\u001b[0;34m\u001b[0m\u001b[0m\n\u001b[0;32m----> 2\u001b[0;31m     \u001b[0mclass_num\u001b[0m\u001b[0;34m=\u001b[0m\u001b[0minput\u001b[0m\u001b[0;34m(\u001b[0m\u001b[0;34m'請輸入班級'\u001b[0m\u001b[0;34m)\u001b[0m\u001b[0;34m\u001b[0m\u001b[0;34m\u001b[0m\u001b[0m\n\u001b[0m\u001b[1;32m      3\u001b[0m     \u001b[0mstudent_num\u001b[0m\u001b[0;34m=\u001b[0m\u001b[0minput\u001b[0m\u001b[0;34m(\u001b[0m\u001b[0;34m'請輸入座號'\u001b[0m\u001b[0;34m)\u001b[0m\u001b[0;34m\u001b[0m\u001b[0;34m\u001b[0m\u001b[0m\n\u001b[1;32m      4\u001b[0m     \u001b[0mgender\u001b[0m\u001b[0;34m=\u001b[0m\u001b[0minput\u001b[0m\u001b[0;34m(\u001b[0m\u001b[0;34m'請輸入性別'\u001b[0m\u001b[0;34m)\u001b[0m\u001b[0;34m\u001b[0m\u001b[0;34m\u001b[0m\u001b[0m\n\u001b[1;32m      5\u001b[0m \u001b[0;34m\u001b[0m\u001b[0m\n",
      "\u001b[0;32m/opt/anaconda3/lib/python3.8/site-packages/ipykernel/kernelbase.py\u001b[0m in \u001b[0;36mraw_input\u001b[0;34m(self, prompt)\u001b[0m\n\u001b[1;32m    858\u001b[0m                 \u001b[0;34m\"raw_input was called, but this frontend does not support input requests.\"\u001b[0m\u001b[0;34m\u001b[0m\u001b[0;34m\u001b[0m\u001b[0m\n\u001b[1;32m    859\u001b[0m             )\n\u001b[0;32m--> 860\u001b[0;31m         return self._input_request(str(prompt),\n\u001b[0m\u001b[1;32m    861\u001b[0m             \u001b[0mself\u001b[0m\u001b[0;34m.\u001b[0m\u001b[0m_parent_ident\u001b[0m\u001b[0;34m,\u001b[0m\u001b[0;34m\u001b[0m\u001b[0;34m\u001b[0m\u001b[0m\n\u001b[1;32m    862\u001b[0m             \u001b[0mself\u001b[0m\u001b[0;34m.\u001b[0m\u001b[0m_parent_header\u001b[0m\u001b[0;34m,\u001b[0m\u001b[0;34m\u001b[0m\u001b[0;34m\u001b[0m\u001b[0m\n",
      "\u001b[0;32m/opt/anaconda3/lib/python3.8/site-packages/ipykernel/kernelbase.py\u001b[0m in \u001b[0;36m_input_request\u001b[0;34m(self, prompt, ident, parent, password)\u001b[0m\n\u001b[1;32m    902\u001b[0m             \u001b[0;32mexcept\u001b[0m \u001b[0mKeyboardInterrupt\u001b[0m\u001b[0;34m:\u001b[0m\u001b[0;34m\u001b[0m\u001b[0;34m\u001b[0m\u001b[0m\n\u001b[1;32m    903\u001b[0m                 \u001b[0;31m# re-raise KeyboardInterrupt, to truncate traceback\u001b[0m\u001b[0;34m\u001b[0m\u001b[0;34m\u001b[0m\u001b[0;34m\u001b[0m\u001b[0m\n\u001b[0;32m--> 904\u001b[0;31m                 \u001b[0;32mraise\u001b[0m \u001b[0mKeyboardInterrupt\u001b[0m\u001b[0;34m(\u001b[0m\u001b[0;34m\"Interrupted by user\"\u001b[0m\u001b[0;34m)\u001b[0m \u001b[0;32mfrom\u001b[0m \u001b[0;32mNone\u001b[0m\u001b[0;34m\u001b[0m\u001b[0;34m\u001b[0m\u001b[0m\n\u001b[0m\u001b[1;32m    905\u001b[0m             \u001b[0;32mexcept\u001b[0m \u001b[0mException\u001b[0m \u001b[0;32mas\u001b[0m \u001b[0me\u001b[0m\u001b[0;34m:\u001b[0m\u001b[0;34m\u001b[0m\u001b[0;34m\u001b[0m\u001b[0m\n\u001b[1;32m    906\u001b[0m                 \u001b[0mself\u001b[0m\u001b[0;34m.\u001b[0m\u001b[0mlog\u001b[0m\u001b[0;34m.\u001b[0m\u001b[0mwarning\u001b[0m\u001b[0;34m(\u001b[0m\u001b[0;34m\"Invalid Message:\"\u001b[0m\u001b[0;34m,\u001b[0m \u001b[0mexc_info\u001b[0m\u001b[0;34m=\u001b[0m\u001b[0;32mTrue\u001b[0m\u001b[0;34m)\u001b[0m\u001b[0;34m\u001b[0m\u001b[0;34m\u001b[0m\u001b[0m\n",
      "\u001b[0;31mKeyboardInterrupt\u001b[0m: Interrupted by user"
     ]
    }
   ],
   "source": [
    "for i in range(17):\n",
    "    class_num=input('請輸入班級')\n",
    "    student_num=input('請輸入座號')\n",
    "    gender=input('請輸入性別')\n",
    "    \n",
    "    print(\"班級座號\"+'%s%s'%(class_num,student_num))\n",
    "    print('性別'+gender)"
   ]
  },
  {
   "cell_type": "markdown",
   "metadata": {},
   "source": [
    "### 03 -  猜數字（Guess the number）\n",
    "#### 請使用者猜一個介於範圍（例如 1 到 100）之間的數字，\n",
    "#### 若使用者猜錯，就詢問他們想繼續玩還是退出；若使用者猜對，就顯示祝賀訊息，\n",
    "#### 並統計使用者的嘗試次數。如果使用者輸入的數字超出設定範圍，就顯示錯誤提示。\n",
    "\n",
    "![](data\\guess.png)\n"
   ]
  },
  {
   "cell_type": "code",
   "execution_count": 41,
   "metadata": {},
   "outputs": [
    {
     "name": "stdout",
     "output_type": "stream",
     "text": [
      "14\n",
      "請輸入數字100\n",
      "超過範圍，請輸入1~100間的數字\n",
      "請輸入數字99\n",
      "是否要繼續?是\n",
      "小一點\n",
      "請輸入數字14\n",
      "恭喜你猜對了\n",
      "嘗試次數:2\n"
     ]
    }
   ],
   "source": [
    "from random import randint\n",
    "num = randint(1,99)\n",
    "print(num)\n",
    "a=1\n",
    "while True:\n",
    "    b= int(input('請輸入數字'))\n",
    "    if b<1 or b>99:\n",
    "        print('超過範圍，請輸入1~100間的數字')\n",
    "    elif b==num:\n",
    "        print('恭喜你猜對了')\n",
    "        print(\"嘗試次數:\"+str(a))\n",
    "        break\n",
    "    else:\n",
    "        c=input('是否要繼續?')\n",
    "        if c == '否':\n",
    "            print(\"嘗試次數:\"+str(a))\n",
    "            break\n",
    "        else:\n",
    "            a=a+1\n",
    "            if b>num:\n",
    "                print('小一點')\n",
    "            else:\n",
    "                print('大一點')\n",
    "        "
   ]
  },
  {
   "cell_type": "markdown",
   "metadata": {},
   "source": [
    "### 04 - 計算字數（Word count）\n",
    "#### 使用者輸入一段文字或讀取一檔案，程式統計字數。\n",
    "\n",
    "> 輸入(Input):我要成為寫程式的專家 <br>\n",
    "輸出(Output):你用了 10 個文字述說內心的想法\n",
    "\n",
    "#### 在特定的文章字串中搜尋輸入的特定字，請使用者輸入欲搜尋的文字，印出總共有幾個。<br>\n",
    ">輸入(Input):天<br>\n",
    "輸出(Output): 9\n",
    "\n",
    "* 進階:計算文章中去除標點符號後的字數，找出文章中出現最多的字與次數"
   ]
  },
  {
   "cell_type": "code",
   "execution_count": 55,
   "metadata": {},
   "outputs": [
    {
     "name": "stdout",
     "output_type": "stream",
     "text": [
      "心\n",
      "4\n"
     ]
    }
   ],
   "source": [
    "s = '''漢皇重色思傾國，御宇多年求不得。\n",
    "\n",
    "楊家有女初長成，養在深閏人未識。\n",
    "\n",
    "天生麗質難自棄，一朝選在君王側。\n",
    "\n",
    "回眸一笑百媚生，六宮粉黛無顏色。\n",
    "\n",
    "春寒賜浴華清池，溫泉水滑洗凝脂；\n",
    "\n",
    "侍兒扶起嬌無力，始是新承恩澤時。\n",
    "\n",
    "雲鬢花顏金步搖，芙蓉帳暖度春宵；\n",
    "\n",
    "春宵苦短日高起，從此君王不早朝。\n",
    "\n",
    "承歡侍宴無閑暇，春從春遊夜專夜。\n",
    "\n",
    "後宮佳麗三千人，三千寵愛在一身。\n",
    "\n",
    "金屋妝成嬌侍夜，玉樓宴罷醉和春。\n",
    "\n",
    "姊妹弟兄皆列士，可憐光彩生門戶。\n",
    "\n",
    "遂令天下父母心，不重生男重生女。\n",
    "\n",
    "驪宮高處入青雲，仙樂風飄處處聞。\n",
    "\n",
    "緩歌慢舞凝絲竹，盡日君王看不足。\n",
    "\n",
    "漁陽鼙鼓動地來，驚破霓裳羽衣曲。\n",
    "\n",
    "九重城闕煙塵生，千乘萬騎西南行。\n",
    "\n",
    "翠華搖搖行復止，西出都門百餘里；\n",
    "\n",
    "六軍不發無奈何？宛轉蛾眉馬前死。\n",
    "\n",
    "花鈿委地無人收，翠翹金雀玉搔頭。\n",
    "\n",
    "君王掩面救不得，回看血淚相和流。\n",
    "\n",
    "黃埃散漫風蕭索，雲棧縈紆登劍閣。\n",
    "\n",
    "峨嵋山下少人行，旌旗無光日色薄。\n",
    "\n",
    "蜀江水碧蜀山青，聖主朝朝暮暮情。\n",
    "\n",
    "行宮見月傷心色，夜雨聞鈴腸斷聲。\n",
    "\n",
    "天旋地轉迴龍馭，到此躊躇不能去。\n",
    "\n",
    "馬嵬坡下泥土中，不見玉顏空死處。\n",
    "\n",
    "君臣相顧盡霑衣，東望都門信馬歸。\n",
    "\n",
    "歸來池苑皆依舊，太液芙蓉未央柳；\n",
    "\n",
    "芙蓉如面柳如眉，對此如何不淚垂？\n",
    "\n",
    "春風桃李花開日，秋雨梧桐葉落時。\n",
    "\n",
    "西宮南內多秋草，落葉滿階紅不掃。\n",
    "\n",
    "梨園子弟白髮新，椒房阿監青娥老。\n",
    "\n",
    "夕殿螢飛思悄然，孤燈挑盡未成眠。\n",
    "\n",
    "遲遲鐘鼓初長夜，耿耿星河欲曙天。\n",
    "\n",
    "鴛鴦瓦冷霜華重，翡翠衾寒誰與共？\n",
    "\n",
    "悠悠生死別經年，魂魄不曾來入夢。\n",
    "\n",
    "臨邛道士鴻都客，能以精誠致魂魄；\n",
    "\n",
    "為感君王輾轉思，遂教方士殷勤覓。\n",
    "\n",
    "排空馭氣奔如電，升天入地求之遍；\n",
    "\n",
    "上窮碧落下黃泉，兩處茫茫皆不見。\n",
    "\n",
    "忽聞海上有仙山，山在虛無縹緲間。\n",
    "\n",
    "樓閣玲瓏五雲起，其中綽約多仙子。\n",
    "\n",
    "中有一人字太真，雪膚花貌參差是。\n",
    "\n",
    "金闕西廂叩玉扃，轉教小玉報雙成。\n",
    "\n",
    "聞道漢家天子使，九華帳裡夢魂驚；\n",
    "\n",
    "攬衣推枕起徘徊，珠箔銀屏迤邐開。\n",
    "\n",
    "雲鬢半偏新睡覺，花冠不整下堂來。\n",
    "\n",
    "風吹仙袂飄飄舉，猶似霓裳羽衣舞。\n",
    "\n",
    "玉容寂寞淚闌干，梨花一枝春帶雨。\n",
    "\n",
    "含情凝睇謝君王，一別音容兩渺茫。\n",
    "\n",
    "昭陽殿裡恩愛絕，蓬萊宮中日月長。\n",
    "\n",
    "回頭下望人寰處，不見長安見塵霧。\n",
    "\n",
    "唯將舊物表深情，鈿合金釵寄將去。\n",
    "\n",
    "釵留一股合一扇，釵擘黃金合分鈿。\n",
    "\n",
    "但教心似金鈿堅，天上人間會相見。\n",
    "\n",
    "臨別殷勤重寄詞，詞中有誓兩心知，\n",
    "\n",
    "七月七日長生殿，夜半無人私語時：「\n",
    "\n",
    "在天願作比翼鳥，在地願為連理枝。」\n",
    "\n",
    "天長地久有時盡，此恨綿綿無絕期。\n",
    "'''\n",
    "\n",
    "search= input()\n",
    "\n",
    "a=0\n",
    "for i in s:\n",
    "    if i == search:\n",
    "        a=a+1\n",
    "print(a)"
   ]
  },
  {
   "cell_type": "code",
   "execution_count": 78,
   "metadata": {},
   "outputs": [
    {
     "name": "stdout",
     "output_type": "stream",
     "text": [
      "不\n",
      "14\n"
     ]
    }
   ],
   "source": [
    "s = '''漢皇重色思傾國，御宇多年求不得。\n",
    "\n",
    "楊家有女初長成，養在深閏人未識。\n",
    "\n",
    "天生麗質難自棄，一朝選在君王側。\n",
    "\n",
    "回眸一笑百媚生，六宮粉黛無顏色。\n",
    "\n",
    "春寒賜浴華清池，溫泉水滑洗凝脂；\n",
    "\n",
    "侍兒扶起嬌無力，始是新承恩澤時。\n",
    "\n",
    "雲鬢花顏金步搖，芙蓉帳暖度春宵；\n",
    "\n",
    "春宵苦短日高起，從此君王不早朝。\n",
    "\n",
    "承歡侍宴無閑暇，春從春遊夜專夜。\n",
    "\n",
    "後宮佳麗三千人，三千寵愛在一身。\n",
    "\n",
    "金屋妝成嬌侍夜，玉樓宴罷醉和春。\n",
    "\n",
    "姊妹弟兄皆列士，可憐光彩生門戶。\n",
    "\n",
    "遂令天下父母心，不重生男重生女。\n",
    "\n",
    "驪宮高處入青雲，仙樂風飄處處聞。\n",
    "\n",
    "緩歌慢舞凝絲竹，盡日君王看不足。\n",
    "\n",
    "漁陽鼙鼓動地來，驚破霓裳羽衣曲。\n",
    "\n",
    "九重城闕煙塵生，千乘萬騎西南行。\n",
    "\n",
    "翠華搖搖行復止，西出都門百餘里；\n",
    "\n",
    "六軍不發無奈何？宛轉蛾眉馬前死。\n",
    "\n",
    "花鈿委地無人收，翠翹金雀玉搔頭。\n",
    "\n",
    "君王掩面救不得，回看血淚相和流。\n",
    "\n",
    "黃埃散漫風蕭索，雲棧縈紆登劍閣。\n",
    "\n",
    "峨嵋山下少人行，旌旗無光日色薄。\n",
    "\n",
    "蜀江水碧蜀山青，聖主朝朝暮暮情。\n",
    "\n",
    "行宮見月傷心色，夜雨聞鈴腸斷聲。\n",
    "\n",
    "天旋地轉迴龍馭，到此躊躇不能去。\n",
    "\n",
    "馬嵬坡下泥土中，不見玉顏空死處。\n",
    "\n",
    "君臣相顧盡霑衣，東望都門信馬歸。\n",
    "\n",
    "歸來池苑皆依舊，太液芙蓉未央柳；\n",
    "\n",
    "芙蓉如面柳如眉，對此如何不淚垂？\n",
    "\n",
    "春風桃李花開日，秋雨梧桐葉落時。\n",
    "\n",
    "西宮南內多秋草，落葉滿階紅不掃。\n",
    "\n",
    "梨園子弟白髮新，椒房阿監青娥老。\n",
    "\n",
    "夕殿螢飛思悄然，孤燈挑盡未成眠。\n",
    "\n",
    "遲遲鐘鼓初長夜，耿耿星河欲曙天。\n",
    "\n",
    "鴛鴦瓦冷霜華重，翡翠衾寒誰與共？\n",
    "\n",
    "悠悠生死別經年，魂魄不曾來入夢。\n",
    "\n",
    "臨邛道士鴻都客，能以精誠致魂魄；\n",
    "\n",
    "為感君王輾轉思，遂教方士殷勤覓。\n",
    "\n",
    "排空馭氣奔如電，升天入地求之遍；\n",
    "\n",
    "上窮碧落下黃泉，兩處茫茫皆不見。\n",
    "\n",
    "忽聞海上有仙山，山在虛無縹緲間。\n",
    "\n",
    "樓閣玲瓏五雲起，其中綽約多仙子。\n",
    "\n",
    "中有一人字太真，雪膚花貌參差是。\n",
    "\n",
    "金闕西廂叩玉扃，轉教小玉報雙成。\n",
    "\n",
    "聞道漢家天子使，九華帳裡夢魂驚；\n",
    "\n",
    "攬衣推枕起徘徊，珠箔銀屏迤邐開。\n",
    "\n",
    "雲鬢半偏新睡覺，花冠不整下堂來。\n",
    "\n",
    "風吹仙袂飄飄舉，猶似霓裳羽衣舞。\n",
    "\n",
    "玉容寂寞淚闌干，梨花一枝春帶雨。\n",
    "\n",
    "含情凝睇謝君王，一別音容兩渺茫。\n",
    "\n",
    "昭陽殿裡恩愛絕，蓬萊宮中日月長。\n",
    "\n",
    "回頭下望人寰處，不見長安見塵霧。\n",
    "\n",
    "唯將舊物表深情，鈿合金釵寄將去。\n",
    "\n",
    "釵留一股合一扇，釵擘黃金合分鈿。\n",
    "\n",
    "但教心似金鈿堅，天上人間會相見。\n",
    "\n",
    "臨別殷勤重寄詞，詞中有誓兩心知，\n",
    "\n",
    "七月七日長生殿，夜半無人私語時：「\n",
    "\n",
    "在天願作比翼鳥，在地願為連理枝。」\n",
    "\n",
    "天長地久有時盡，此恨綿綿無絕期。\n",
    "'''\n",
    "\n",
    "import string\n",
    "new_string = string.punctuation + '。'+\"，\"\n",
    "#print(new_string)\n",
    "\n",
    "s_1 = s.translate(s.maketrans('','',new_string))\n",
    "s_2=s_1.replace('\\n','')\n",
    "s_2\n",
    "\n",
    "maxChar = ''\n",
    "maxFreq = 0\n",
    "for i in s_2:\n",
    "    freq = s_2.count(i)\n",
    "    #print(i,freq)\n",
    "    if freq > maxFreq:\n",
    "        maxFreq = freq\n",
    "        maxChar = i\n",
    "print(maxChar)\n",
    "print(maxFreq)\n"
   ]
  },
  {
   "cell_type": "code",
   "execution_count": 130,
   "metadata": {},
   "outputs": [
    {
     "name": "stdout",
     "output_type": "stream",
     "text": [
      "不 14\n"
     ]
    }
   ],
   "source": [
    "import string\n",
    "new_string = string.punctuation + '。'+\"，\"+\"」\"\n",
    "s_1 = s.translate(s.maketrans('','',new_string))\n",
    "s_2=s_1.replace('\\n','')\n",
    "s_2\n",
    "\n",
    "dictNum={}\n",
    "for i in s_2:\n",
    "    dictNum[i]=s_2.count(i)\n",
    "\n",
    "s_2_max=max(dictNum,key=dictNum.get)\n",
    "s_2_word=dictNum[s_2_max]\n",
    "\n",
    "print(s_2_max,s_2_word)"
   ]
  },
  {
   "cell_type": "code",
   "execution_count": 52,
   "metadata": {},
   "outputs": [
    {
     "name": "stdout",
     "output_type": "stream",
     "text": [
      "你好\n",
      "你用了 2 個文字述說內心的想法\n"
     ]
    }
   ],
   "source": [
    "word = input()\n",
    "print(\"你用了 %d 個文字述說內心的想法\"%(len(word)))"
   ]
  },
  {
   "cell_type": "code",
   "execution_count": 15,
   "metadata": {},
   "outputs": [
    {
     "name": "stdout",
     "output_type": "stream",
     "text": [
      "討厭\n",
      "你用了 2 個文字述說內心的想法\n",
      "天\n",
      "9\n"
     ]
    }
   ],
   "source": [
    "word = input()\n",
    "print(\"你用了 %d 個文字述說內心的想法\"%(len(word)))\n",
    "\n",
    "\n",
    "s = '''漢皇重色思傾國，御宇多年求不得。\n",
    "\n",
    "楊家有女初長成，養在深閏人未識。\n",
    "\n",
    "天生麗質難自棄，一朝選在君王側。\n",
    "\n",
    "回眸一笑百媚生，六宮粉黛無顏色。\n",
    "\n",
    "春寒賜浴華清池，溫泉水滑洗凝脂；\n",
    "\n",
    "侍兒扶起嬌無力，始是新承恩澤時。\n",
    "\n",
    "雲鬢花顏金步搖，芙蓉帳暖度春宵；\n",
    "\n",
    "春宵苦短日高起，從此君王不早朝。\n",
    "\n",
    "承歡侍宴無閑暇，春從春遊夜專夜。\n",
    "\n",
    "後宮佳麗三千人，三千寵愛在一身。\n",
    "\n",
    "金屋妝成嬌侍夜，玉樓宴罷醉和春。\n",
    "\n",
    "姊妹弟兄皆列士，可憐光彩生門戶。\n",
    "\n",
    "遂令天下父母心，不重生男重生女。\n",
    "\n",
    "驪宮高處入青雲，仙樂風飄處處聞。\n",
    "\n",
    "緩歌慢舞凝絲竹，盡日君王看不足。\n",
    "\n",
    "漁陽鼙鼓動地來，驚破霓裳羽衣曲。\n",
    "\n",
    "九重城闕煙塵生，千乘萬騎西南行。\n",
    "\n",
    "翠華搖搖行復止，西出都門百餘里；\n",
    "\n",
    "六軍不發無奈何？宛轉蛾眉馬前死。\n",
    "\n",
    "花鈿委地無人收，翠翹金雀玉搔頭。\n",
    "\n",
    "君王掩面救不得，回看血淚相和流。\n",
    "\n",
    "黃埃散漫風蕭索，雲棧縈紆登劍閣。\n",
    "\n",
    "峨嵋山下少人行，旌旗無光日色薄。\n",
    "\n",
    "蜀江水碧蜀山青，聖主朝朝暮暮情。\n",
    "\n",
    "行宮見月傷心色，夜雨聞鈴腸斷聲。\n",
    "\n",
    "天旋地轉迴龍馭，到此躊躇不能去。\n",
    "\n",
    "馬嵬坡下泥土中，不見玉顏空死處。\n",
    "\n",
    "君臣相顧盡霑衣，東望都門信馬歸。\n",
    "\n",
    "歸來池苑皆依舊，太液芙蓉未央柳；\n",
    "\n",
    "芙蓉如面柳如眉，對此如何不淚垂？\n",
    "\n",
    "春風桃李花開日，秋雨梧桐葉落時。\n",
    "\n",
    "西宮南內多秋草，落葉滿階紅不掃。\n",
    "\n",
    "梨園子弟白髮新，椒房阿監青娥老。\n",
    "\n",
    "夕殿螢飛思悄然，孤燈挑盡未成眠。\n",
    "\n",
    "遲遲鐘鼓初長夜，耿耿星河欲曙天。\n",
    "\n",
    "鴛鴦瓦冷霜華重，翡翠衾寒誰與共？\n",
    "\n",
    "悠悠生死別經年，魂魄不曾來入夢。\n",
    "\n",
    "臨邛道士鴻都客，能以精誠致魂魄；\n",
    "\n",
    "為感君王輾轉思，遂教方士殷勤覓。\n",
    "\n",
    "排空馭氣奔如電，升天入地求之遍；\n",
    "\n",
    "上窮碧落下黃泉，兩處茫茫皆不見。\n",
    "\n",
    "忽聞海上有仙山，山在虛無縹緲間。\n",
    "\n",
    "樓閣玲瓏五雲起，其中綽約多仙子。\n",
    "\n",
    "中有一人字太真，雪膚花貌參差是。\n",
    "\n",
    "金闕西廂叩玉扃，轉教小玉報雙成。\n",
    "\n",
    "聞道漢家天子使，九華帳裡夢魂驚；\n",
    "\n",
    "攬衣推枕起徘徊，珠箔銀屏迤邐開。\n",
    "\n",
    "雲鬢半偏新睡覺，花冠不整下堂來。\n",
    "\n",
    "風吹仙袂飄飄舉，猶似霓裳羽衣舞。\n",
    "\n",
    "玉容寂寞淚闌干，梨花一枝春帶雨。\n",
    "\n",
    "含情凝睇謝君王，一別音容兩渺茫。\n",
    "\n",
    "昭陽殿裡恩愛絕，蓬萊宮中日月長。\n",
    "\n",
    "回頭下望人寰處，不見長安見塵霧。\n",
    "\n",
    "唯將舊物表深情，鈿合金釵寄將去。\n",
    "\n",
    "釵留一股合一扇，釵擘黃金合分鈿。\n",
    "\n",
    "但教心似金鈿堅，天上人間會相見。\n",
    "\n",
    "臨別殷勤重寄詞，詞中有誓兩心知，\n",
    "\n",
    "七月七日長生殿，夜半無人私語時：「\n",
    "\n",
    "在天願作比翼鳥，在地願為連理枝。」\n",
    "\n",
    "天長地久有時盡，此恨綿綿無絕期。\n",
    "'''\n",
    "\n",
    "print (\"------------------------------------------\")\n",
    "#請使用者輸入一文字\n",
    "#計算該文字在文章出現次數\n",
    "#列印出現次數\n",
    "\n",
    "print (\"------------------------------------------\")\n",
    "#把文字中 '。，\\n；：？「」'的標點符號去除\n",
    "\n",
    "#目前已知出現最多次的字的次數\n",
    "#目前已知出現最多次的字\n",
    " \n",
    "print('文章總字數:',len(s))\n",
    "\n",
    "for astr in s:\n",
    "    #print(astr)\n",
    "    act=s.count(astr)\n",
    "    # 如果 現在這個字出現的次數(act) 大於 目前已知出現最多次字的次數\n",
    "        #就讓 現在這個字出現的次數 成為 目前已知出現最多次的字的次數\n",
    "        #還要記錄 現在這個字(astr) 到 目前已知出現最多次的字\n",
    "else:\n",
    "    print(maxchar)"
   ]
  },
  {
   "cell_type": "markdown",
   "metadata": {},
   "source": [
    "### 05 - Email 域名判斷器（Email slicer）\n",
    "#### 請用戶輸入 Email 地址，然後判斷它是自定義域名還是熱門域名。\n",
    "\n",
    "> 題目：<br>\n",
    "輸入(Input):shelly200318@hotmail.com.tw  <br>\n",
    "輸出(Output):Your username is 'shelly200318' and your domain name is 'hotmail.com.tw' <br>\n",
    "\n",
    "\n",
    "* 進階：把常用的信箱存成字典，加入判斷是否為\n",
    ">輸入(Input):mary.jane@gmail.com  <br>\n",
    "輸出(Output):這是註冊在 Google 之下的 Email 地址 <br>\n",
    "輸入(Input):matt.pan@myfantasy.com  <br>\n",
    "輸出(Output):這是在 myfantasy 之下自定義域\n",
    "\n"
   ]
  },
  {
   "cell_type": "code",
   "execution_count": 146,
   "metadata": {},
   "outputs": [
    {
     "name": "stdout",
     "output_type": "stream",
     "text": [
      "B07702008@abc.com\n",
      "這是註冊在 abc.com 之下的 自定義域'\n",
      "您的帳號為：B07702008\n",
      "您的網域為：abc.com\n"
     ]
    }
   ],
   "source": [
    "'''\n",
    "username=''\n",
    "for i in email:\n",
    "    if i != mouse:\n",
    "        username = username + i\n",
    "    else:\n",
    "        break\n",
    "domain = email.strip(username+'@')\n",
    "'''\n",
    "\n",
    "a=input()\n",
    "username = a[0:email.index('@')]\n",
    "domain=a[email.index('@')+1:]\n",
    "\n",
    "domain1 = {'gmail.com':'Google','yahoo.com.tw':'Yahoo','ntu.edu.tw':'臺大','hotmail.com.tw':'Hotmail','hotmail.com':'Hotmail'}\n",
    "\n",
    "if domain in domain1:\n",
    "    print(\"這是註冊在 {} 之下的 Email 地址'\".format(domain1[domain]))\n",
    "else:\n",
    "    print(\"這是註冊在 {} 之下的 自定義域'\".format(domain))\n",
    "print('您的帳號為：'+username)\n",
    "print('您的網域為：'+domain)\n"
   ]
  },
  {
   "cell_type": "code",
   "execution_count": 113,
   "metadata": {},
   "outputs": [
    {
     "name": "stdout",
     "output_type": "stream",
     "text": [
      "b07702008@ntu.edu.tw\n",
      "b07702008\n",
      "ntu.edu.tw\n"
     ]
    }
   ],
   "source": [
    "def username_split(email):\n",
    "    username=''\n",
    "    for i in email:\n",
    "        if i != \"@\":\n",
    "            username = username + i\n",
    "        else:\n",
    "            break\n",
    "    domain = email.strip(username + '@')\n",
    "    return username,domain\n",
    "\n",
    "a=input()\n",
    "username = username_split(a)[0]\n",
    "domain = username_split(a)[1]\n",
    "print(username)\n",
    "print(domain)"
   ]
  },
  {
   "cell_type": "code",
   "execution_count": 133,
   "metadata": {},
   "outputs": [
    {
     "name": "stdout",
     "output_type": "stream",
     "text": [
      "b07702008@ntu.edu.tw\n",
      "b07702008 ntu.edu.tw\n"
     ]
    }
   ],
   "source": [
    "a=input()\n",
    "username = a[0:email.index('@')]\n",
    "domain=a[email.index('@')+1:]\n",
    "\n",
    "print(username,domain)"
   ]
  },
  {
   "cell_type": "code",
   "execution_count": 79,
   "metadata": {},
   "outputs": [
    {
     "ename": "SyntaxError",
     "evalue": "invalid syntax (<ipython-input-79-7cf8746c425e>, line 18)",
     "output_type": "error",
     "traceback": [
      "\u001b[0;36m  File \u001b[0;32m\"<ipython-input-79-7cf8746c425e>\"\u001b[0;36m, line \u001b[0;32m18\u001b[0m\n\u001b[0;31m    if ??????:\u001b[0m\n\u001b[0m       ^\u001b[0m\n\u001b[0;31mSyntaxError\u001b[0m\u001b[0;31m:\u001b[0m invalid syntax\n"
     ]
    }
   ],
   "source": [
    "# Get user email address\n",
    "email = input(\"What is your email address?: \").strip()\n",
    "\n",
    "# Slice out the user name\n",
    "\n",
    "\n",
    "# Slice the domain name\n",
    "\n",
    "\n",
    "# Format message\n",
    "output = \"Your username is '{}' and your domain name is '{}'\".format(user_name,domain_name)\n",
    "\n",
    "# Display output message\n",
    "print(output)\n",
    "\n",
    "\n",
    "domain1 = {'gmail.com':'Google','yahoo.com.tw':'Yahoo','ntu.edu.tw':'臺大','hotmail.com.tw':'Hotmail','hotmail.com':'Hotmail'}\n",
    "if ??????:\n",
    "    output = \"這是註冊在 {} 之下的 Email 地址'\".format(??????)\n",
    "else:\n",
    "    \n",
    "    output = \"這是在 {} 之下自定義域\".format(??????)\n",
    "print(output)"
   ]
  },
  {
   "cell_type": "markdown",
   "metadata": {},
   "source": [
    "### 06 - 及格名單（Pass list）\n",
    "#### 請使用集合功能來完成各科級名單的判斷\n",
    "```\n",
    "米花市帝丹小學一年级B班正舉辦期中考試\n",
    "數學及格的有：柯南、灰原、步美、美環、光彦\n",
    "英文及格的有：柯南、灰原、丸尾、野口、步美\n",
    "以上已列出全班所有人\n",
    "```\n",
    "\n",
    ">請分別列出<br>\n",
    "數學及格但英文不及格的同學名單<br>\n",
    "數學不及格但英文及格的同學名單<br>\n",
    "兩者皆及格名單<br>\n",
    "* Hint:差集(減法)、交集\n"
   ]
  },
  {
   "cell_type": "code",
   "execution_count": 114,
   "metadata": {},
   "outputs": [
    {
     "name": "stdout",
     "output_type": "stream",
     "text": [
      "['光彦', '美環']\n",
      "['丸尾', '野口']\n",
      "['柯南', '步美', '灰原']\n"
     ]
    }
   ],
   "source": [
    "m={'柯南','灰原','步美','美環','光彦'}\n",
    "e={'柯南','灰原','丸尾','野口','步美'}\n",
    "a=m.intersection(e)\n",
    "b=m.difference(a)\n",
    "c=e.difference(a)\n",
    "a1=list(a)\n",
    "b1=list(b)\n",
    "c1=list(c)\n",
    "b1.sort()\n",
    "print(b1)\n",
    "c1.sort()\n",
    "print(c1)\n",
    "a1.sort()\n",
    "print(a1)\n"
   ]
  },
  {
   "cell_type": "code",
   "execution_count": 118,
   "metadata": {},
   "outputs": [
    {
     "name": "stdout",
     "output_type": "stream",
     "text": [
      "<class 'set'>\n"
     ]
    }
   ],
   "source": [
    "m={'柯南','灰原','步美','美環','光彦'}\n",
    "e={'柯南','灰原','丸尾','野口','步美'}\n",
    "a=m.intersection(e)\n",
    "b=m.difference(a)\n",
    "c=e.difference(a)\n"
   ]
  },
  {
   "cell_type": "markdown",
   "metadata": {},
   "source": [
    "### 07 - 查詢路徑下所有檔案\n",
    "#### 請使用者輸入路徑，自動抓取路徑下所有檔案名稱\n",
    "\n",
    ">輸入(Input):data\\testfile 或 D:\\code\\ML_202105\\data\\testfile  <br>\n",
    "輸出(Output):\n",
    "```\n",
    "I'm a directory: file1\n",
    "I'm a directory: file2\n",
    "I'm a File: hw_07945001.txt\n",
    "I'm a File: hw_079450010.doc\n",
    "I'm a File: hw_07945002.txt\n",
    "I'm a File: hw_07945003.txt\n",
    "I'm a File: hw_07945004.txt\n",
    "I'm a File: hw_07945005.txt\n",
    "I'm a File: hw_07945007.txt\n",
    "I'm a File: hw_07945008.txt\n",
    "I'm a File: hw_07945009.txt\n",
    "```\n",
    "\n",
    "* 進階: 把file的學號抓出來，另存成一個新的csv檔"
   ]
  },
  {
   "cell_type": "code",
   "execution_count": 8,
   "metadata": {},
   "outputs": [
    {
     "name": "stdout",
     "output_type": "stream",
     "text": [
      "D:\\code\\ML_202105\\testfile\n",
      "I'm a directory: file1\n",
      "I'm a directory: file2\n",
      "I'm a File: hw_07945001.txt\n",
      "I'm a File: hw_079450010.doc\n",
      "I'm a File: hw_07945002.txt\n",
      "I'm a File: hw_07945003.txt\n",
      "I'm a File: hw_07945004.txt\n",
      "I'm a File: hw_07945005.txt\n",
      "I'm a File: hw_07945007.txt\n",
      "I'm a File: hw_07945008.txt\n",
      "I'm a File: hw_07945009.txt\n"
     ]
    }
   ],
   "source": [
    "import os\n",
    "\n",
    "# 請使用者輸入或指定要查詢的路徑\n",
    "yourPath = input()\n",
    "# 列出指定路徑底下所有檔案(包含資料夾)\n",
    "allFileList = os.listdir(yourPath)\n",
    "ID =[]\n",
    "\n",
    "# 逐一查詢檔案清單\n",
    "for file in allFileList:\n",
    "#   這邊也可以視情況，做檔案的操作(複製、讀取...等)\n",
    "#   使用isdir檢查是否為目錄\n",
    "#   使用join的方式把路徑與檔案名稱串起來(等同filePath+fileName)\n",
    "    if os.path.isdir(os.path.join(yourPath,file)):\n",
    "        print(\"I'm a directory: \" + file)\n",
    "    #   使用isfile判斷是否為檔案\n",
    "    elif os.path.isfile(os.path.join(yourPath,file)):\n",
    "        print(\"I'm a File: \" + file)\n",
    "        ID.append(file[file.index('_'+1:file.index('.'))\n"
   ]
  },
  {
   "cell_type": "markdown",
   "metadata": {},
   "source": [
    "### 08 - 資料夾管理(shutil)\n",
    "#### 說明 ####\n",
    "\n",
    "```\n",
    "在目前所在的目錄下建立一files資料夾\n",
    "\n",
    "令使用者輸入一數字N，並在files資料夾中建立f1, f2… fN等N個資料夾後列出files的資料夾內容\n",
    "\n",
    "將files資料夾裡的f1資料夾重新命名成folder1後再列出files的資料夾內容\n",
    "\n",
    "移除files資料夾中的folder1後再列出files的資料夾內容\n",
    "\n",
    "最後移除files資料夾\n",
    "※須先退出files資料夾(os.chdir(../)) ![image.png](attachment:image.png)\n",
    "```\n"
   ]
  },
  {
   "cell_type": "code",
   "execution_count": 148,
   "metadata": {},
   "outputs": [
    {
     "name": "stdout",
     "output_type": "stream",
     "text": [
      "2\n"
     ]
    },
    {
     "ename": "TypeError",
     "evalue": "'module' object is not callable",
     "output_type": "error",
     "traceback": [
      "\u001b[0;31m---------------------------------------------------------------------------\u001b[0m",
      "\u001b[0;31mTypeError\u001b[0m                                 Traceback (most recent call last)",
      "\u001b[0;32m<ipython-input-148-97e60bdfed5b>\u001b[0m in \u001b[0;36m<module>\u001b[0;34m\u001b[0m\n\u001b[1;32m      9\u001b[0m \u001b[0mos\u001b[0m\u001b[0;34m.\u001b[0m\u001b[0mchdir\u001b[0m\u001b[0;34m(\u001b[0m\u001b[0;34m'files'\u001b[0m\u001b[0;34m)\u001b[0m\u001b[0;34m\u001b[0m\u001b[0;34m\u001b[0m\u001b[0m\n\u001b[1;32m     10\u001b[0m \u001b[0;32mfor\u001b[0m \u001b[0mi\u001b[0m \u001b[0;32min\u001b[0m \u001b[0mrange\u001b[0m\u001b[0;34m(\u001b[0m\u001b[0;36m1\u001b[0m\u001b[0;34m,\u001b[0m\u001b[0mn\u001b[0m\u001b[0;34m+\u001b[0m\u001b[0;36m1\u001b[0m\u001b[0;34m)\u001b[0m\u001b[0;34m:\u001b[0m\u001b[0;34m\u001b[0m\u001b[0;34m\u001b[0m\u001b[0m\n\u001b[0;32m---> 11\u001b[0;31m     \u001b[0mos\u001b[0m\u001b[0;34m.\u001b[0m\u001b[0mmkdir\u001b[0m\u001b[0;34m(\u001b[0m\u001b[0;34m'f'\u001b[0m\u001b[0;34m+\u001b[0m\u001b[0mstr\u001b[0m\u001b[0;34m(\u001b[0m\u001b[0mi\u001b[0m\u001b[0;34m)\u001b[0m\u001b[0;34m)\u001b[0m\u001b[0;34m\u001b[0m\u001b[0;34m\u001b[0m\u001b[0m\n\u001b[0m\u001b[1;32m     12\u001b[0m \u001b[0mprint\u001b[0m\u001b[0;34m(\u001b[0m\u001b[0msorted\u001b[0m\u001b[0;34m(\u001b[0m\u001b[0mos\u001b[0m\u001b[0;34m.\u001b[0m\u001b[0mlistdir\u001b[0m\u001b[0;34m(\u001b[0m\u001b[0;34m)\u001b[0m\u001b[0;34m)\u001b[0m\u001b[0;34m)\u001b[0m\u001b[0;34m\u001b[0m\u001b[0;34m\u001b[0m\u001b[0m\n\u001b[1;32m     13\u001b[0m \u001b[0ma\u001b[0m\u001b[0;34m=\u001b[0m\u001b[0minput\u001b[0m\u001b[0;34m(\u001b[0m\u001b[0;34m'Enter'\u001b[0m\u001b[0;34m)\u001b[0m\u001b[0;34m\u001b[0m\u001b[0;34m\u001b[0m\u001b[0m\n",
      "\u001b[0;31mTypeError\u001b[0m: 'module' object is not callable"
     ]
    }
   ],
   "source": [
    "import os\n",
    "import shutil\n",
    "\n",
    "if os.path.exists('files'):\n",
    "    shutil.rmtree('files')\n",
    "os.mkdir('files')\n",
    "\n",
    "n = int(input())\n",
    "os.chdir('files')\n",
    "for i in range(1,n+1):\n",
    "    os.mkdir('f'+str(i))\n",
    "print(sorted(os.listdir()))\n",
    "a=input('Enter')\n",
    "\n",
    "os.rmdir('folder1')\n",
    "print(sorted(os.listdir()))\n",
    "a=input('Enter')\n",
    "\n",
    "os.chdir('../')\n",
    "shutil.rmtree('files')\n",
    "\n"
   ]
  },
  {
   "cell_type": "markdown",
   "metadata": {},
   "source": [
    "### 09 - 回文判斷（Is a palindrome）\n",
    "#### 請使用者輸入單字，判斷它是否為回文，也就是該單字前後對稱，例如 madam，從前讀到後或是從後讀到前的順序都是 madam。\n",
    "\n",
    "> 題目：<br>\n",
    "輸入(Input): 雨 滋 春 樹 碧 連 天  天 連 碧 樹 春 滋 雨 <br>\n",
    "輸出(Output):The text you have entered is a palindrome!<br>\n",
    "輸入(Input): 資工訓練班 <br>\n",
    "輸出(Output):The text you have entered is not a palindrome.\n"
   ]
  },
  {
   "cell_type": "code",
   "execution_count": 152,
   "metadata": {},
   "outputs": [
    {
     "name": "stdout",
     "output_type": "stream",
     "text": [
      "\n",
      "Palindrome checker\n",
      "\n",
      "Please enter a word, phrase, or a sentence \n",
      "to check if it is a palindrome: abcba\n",
      "The text you have entered is a palindrome!\n"
     ]
    }
   ],
   "source": [
    "def convertInputString():\n",
    "    #請使用者輸入一串字串，先轉換字串為統一小寫\n",
    "    rawInput = input(\"\\nPlease enter a word, phrase, or a sentence \\nto check if it is a palindrome: \") \n",
    "    rawString = rawInput.lower()\n",
    "    rawList = list(rawString)\n",
    "    return rawList\n",
    "\n",
    "def stripAnalphabetics(dirtyList): \n",
    "    analphabeticList = [\" \", \"-\", \".\", \",\", \":\", \";\", \"!\", \"?\", \"'\", \"\\\"\"] \n",
    "    #去除相關標點符號\n",
    "    for character in analphabeticList:\n",
    "        if character in dirtyList:\n",
    "            dirtyList.remove(character)\n",
    "            #return stripAnalphabetics(dirtyList)\n",
    "    return dirtyList\n",
    "\n",
    "def runPalindromeCheck(straightList):\n",
    "    reversedList = straightList[::-1] \n",
    "    if reversedList == straightList : \n",
    "        return \"The text you have entered is a palindrome!\" \n",
    "    else: \n",
    "        return \"The text you have entered is not a palindrome.\" \n",
    "\n",
    "def main(): \n",
    "    print(\"\\nPalindrome checker\") \n",
    "    originalList=convertInputString()\n",
    "    originalList=stripAnalphabetics(originalList)\n",
    "    PalindromeCheck=runPalindromeCheck(originalList)\n",
    "    print(PalindromeCheck)\n",
    "\n",
    "\n",
    "main() "
   ]
  },
  {
   "cell_type": "markdown",
   "metadata": {},
   "source": [
    "### 10 - 總成績計算\n",
    "#### 說明 ####\n",
    "\n",
    "請讀取 `data/english_list.csv`與`data/math_list.csv`檔案(`utf-8`)後，將每位同學的英文與數學成績加總起來，並將檔案寫入至 `./Score.csv`中，編碼成`utf-8`<br>\n",
    "最後列印出每位學生姓名與加總後的分數<br>\n",
    "<a href=\"data\\english_list.csv\">英文成績下載</a><br>\n",
    "<a href=\"data\\math_list.csv\">數學成績下載</a><br>\n",
    "\n",
    "#### Input Format ####\n",
    "\n",
    "<br>\n",
    "csv資料(英文成績)<br>\n",
    "csv資料(數學成績)<br>\n",
    "<br>\n",
    "\n",
    "#### Output Format ####\n",
    "\n",
    "<br>\n",
    "\n",
    "![](data\\05.JPG)<br>\n",
    "<br>\n",
    "<br>\n",
    "(圖片參考用 以文字敘述為準)<br>\n",
    "\n",
    "\n",
    "\n",
    "\n",
    "#### Sample Input 1####\n",
    "\n",
    "\n",
    "\n",
    "```\n",
    "無標準輸入，只有檔案輸入\n",
    "```\n",
    "\n",
    "\n",
    "\n",
    "#### Sample Output 1####\n",
    "\n",
    "\n",
    "```\n",
    "廖冠霖 142\n",
    "王力中 124\n",
    "張平舜 108\n",
    ".\n",
    ".\n",
    ".\n",
    ".\n",
    ".\n",
    "陳姿茜 77\n",
    "涂珮瑜 134\n",
    "夏明哲 111\n",
    "\n",
    "```\n",
    "\n",
    "\n",
    "#### Hint ####\n",
    "\n",
    "\n",
    "\n",
    "```\n",
    "None\n",
    "```\n"
   ]
  },
  {
   "cell_type": "code",
   "execution_count": 8,
   "metadata": {},
   "outputs": [
    {
     "name": "stdout",
     "output_type": "stream",
     "text": [
      "['英文', '76', '51', '93', '46', '7', '13', '81', '27', '18', '39', '58', '74', '86', '75', '94', '30', '70', '97', '3', '22', '34', '92', '21', '7', '97', '37', '42', '43', '42', '90'] ['數學', '66', '73', '15', '82', '79', '15', '53', '5', '37', '38', '86', '89', '23', '24', '41', '47', '47', '70', '49', '58', '74', '86', '75', '94', '30', '70', '22', '34', '92', '21'] ['姓名', '廖冠霖', '王力中', '張平舜', '洪婷婷', '林士雨', '陳宗翰', '洪偉珊', '顏又芹', '王亦夏', '姚成華', '潘詠月', '倪浩迪', '郭心怡', '黃政聖', '顏曉雲', '彭曉雯', '葉健仁', '賴軒年', '韓致遠', '陳常芝', '黃佩樺', '林詩虹', '黃心卿', '郭奕全', '游子揚', '杜茜行', '李美一', '陳姿茜', '涂珮瑜', '夏明哲']\n",
      "廖冠霖 142\n",
      "王力中 124\n",
      "張平舜 108\n",
      "洪婷婷 128\n",
      "林士雨 86\n",
      "陳宗翰 28\n",
      "洪偉珊 134\n",
      "顏又芹 32\n",
      "王亦夏 55\n",
      "姚成華 77\n",
      "潘詠月 144\n",
      "倪浩迪 163\n",
      "郭心怡 109\n",
      "黃政聖 99\n",
      "顏曉雲 135\n",
      "彭曉雯 77\n",
      "葉健仁 117\n",
      "賴軒年 167\n",
      "韓致遠 52\n",
      "陳常芝 80\n",
      "黃佩樺 108\n",
      "林詩虹 178\n",
      "黃心卿 96\n",
      "郭奕全 101\n",
      "游子揚 127\n",
      "杜茜行 107\n",
      "李美一 64\n",
      "陳姿茜 77\n",
      "涂珮瑜 134\n",
      "夏明哲 111\n"
     ]
    }
   ],
   "source": [
    "fin_E = open('data/english_list.csv',\"r\",encoding='UTF-8-SIG')\n",
    "fin_M = open('data/math_list.csv',\"r\",encoding='UTF-8-SIG')\n",
    "lisE=[]\n",
    "lisM=[]\n",
    "name=[]\n",
    "#print(fin_E.readlines())\n",
    "#print(type(fin_E.readlines()))\n",
    "\n",
    "for line in fin_E.readlines():\n",
    "    line = line.strip().split(\",\") #字串split成陣列\n",
    "    name.append(line[0])\n",
    "    lisE.append(line[1])\n",
    "\n",
    "    \n",
    "for line in fin_M.readlines():\n",
    "    line = line.strip().split(\",\") \n",
    "    lisM.append(line[1])\n",
    "\n",
    "print(lisE,lisM,name)\n",
    "\n",
    "\n",
    "score=[]\n",
    "fout = open(\"data/Score.csv\",\"w\")\n",
    "line=''\n",
    "for i in range(1,len(name)):\n",
    "    score.append(int(lisE[i])+int(lisM[i]))\n",
    "    list1 = [name[i],str(score[i-1]),\"\\n\"]  #陣列\n",
    "    print(name[i],str(score[i-1]))\n",
    "    \n",
    "    line = \",\".join(list1) #陣列用join合成字串\n",
    "    fout.write(line)\n",
    "fin_E.close()\n",
    "fin_M.close()\n",
    "fout.close()\n",
    "\n",
    "#line=''\n",
    "#fout = open(\"Score.csv\",\"r\")\n",
    "#for i in (len(name)):\n",
    " #   print()\n",
    "\n"
   ]
  },
  {
   "cell_type": "code",
   "execution_count": 39,
   "metadata": {},
   "outputs": [
    {
     "ename": "ImportError",
     "evalue": "cannot import name 'maketrans' from 'string' (/opt/anaconda3/lib/python3.8/string.py)",
     "output_type": "error",
     "traceback": [
      "\u001b[0;31m---------------------------------------------------------------------------\u001b[0m",
      "\u001b[0;31mImportError\u001b[0m                               Traceback (most recent call last)",
      "\u001b[0;32m<ipython-input-39-b0604ca5a351>\u001b[0m in \u001b[0;36m<module>\u001b[0;34m\u001b[0m\n\u001b[0;32m----> 1\u001b[0;31m \u001b[0;32mfrom\u001b[0m \u001b[0mstring\u001b[0m \u001b[0;32mimport\u001b[0m \u001b[0mmaketrans\u001b[0m   \u001b[0;31m# 必须调用 maketrans 函数。\u001b[0m\u001b[0;34m\u001b[0m\u001b[0;34m\u001b[0m\u001b[0m\n\u001b[0m\u001b[1;32m      2\u001b[0m \u001b[0;34m\u001b[0m\u001b[0m\n\u001b[1;32m      3\u001b[0m \u001b[0mintab\u001b[0m \u001b[0;34m=\u001b[0m \u001b[0;34m\"aeiou\"\u001b[0m\u001b[0;34m\u001b[0m\u001b[0;34m\u001b[0m\u001b[0m\n\u001b[1;32m      4\u001b[0m \u001b[0mouttab\u001b[0m \u001b[0;34m=\u001b[0m \u001b[0;34m\"12345\"\u001b[0m\u001b[0;34m\u001b[0m\u001b[0;34m\u001b[0m\u001b[0m\n\u001b[1;32m      5\u001b[0m \u001b[0mtrantab\u001b[0m \u001b[0;34m=\u001b[0m \u001b[0mmaketrans\u001b[0m\u001b[0;34m(\u001b[0m\u001b[0mintab\u001b[0m\u001b[0;34m,\u001b[0m \u001b[0mouttab\u001b[0m\u001b[0;34m)\u001b[0m\u001b[0;34m\u001b[0m\u001b[0;34m\u001b[0m\u001b[0m\n",
      "\u001b[0;31mImportError\u001b[0m: cannot import name 'maketrans' from 'string' (/opt/anaconda3/lib/python3.8/string.py)"
     ]
    }
   ],
   "source": [
    "from string import maketrans   # 必须调用 maketrans 函数。\n",
    "\n",
    "intab = \"aeiou\"\n",
    "outtab = \"12345\"\n",
    "trantab = maketrans(intab, outtab)\n",
    "\n",
    "str = \"this is string example....wow!!!\";\n",
    "print (str.translate(trantab));"
   ]
  },
  {
   "cell_type": "code",
   "execution_count": 51,
   "metadata": {},
   "outputs": [
    {
     "name": "stdout",
     "output_type": "stream",
     "text": [
      "!\"#$%&'()*+,-./:;<=>?@[\\]^_`{|}~\n"
     ]
    },
    {
     "data": {
      "text/plain": [
       "'123bfc'"
      ]
     },
     "execution_count": 51,
     "metadata": {},
     "output_type": "execute_result"
    }
   ],
   "source": [
    "import string\n",
    "print(string.punctuation)\n",
    "\n",
    "txt='123,bfc+'\n",
    "\n",
    "txt.translate(txt.maketrans('','',string.punctuation))"
   ]
  },
  {
   "cell_type": "code",
   "execution_count": 50,
   "metadata": {},
   "outputs": [
    {
     "name": "stdout",
     "output_type": "stream",
     "text": [
      "{49: '123', 50: '456', 51: '789'}\n"
     ]
    }
   ],
   "source": [
    "dict = {\"1\": \"123\", \"2\": \"456\", \"3\": \"789\"}\n",
    "string = \"123\"\n",
    "print(string.maketrans(dict))"
   ]
  },
  {
   "cell_type": "code",
   "execution_count": null,
   "metadata": {},
   "outputs": [],
   "source": []
  }
 ],
 "metadata": {
  "kernelspec": {
   "display_name": "Python 3",
   "language": "python",
   "name": "python3"
  },
  "language_info": {
   "codemirror_mode": {
    "name": "ipython",
    "version": 3
   },
   "file_extension": ".py",
   "mimetype": "text/x-python",
   "name": "python",
   "nbconvert_exporter": "python",
   "pygments_lexer": "ipython3",
   "version": "3.8.3"
  }
 },
 "nbformat": 4,
 "nbformat_minor": 2
}
